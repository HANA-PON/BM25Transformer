{
  "nbformat": 4,
  "nbformat_minor": 0,
  "metadata": {
    "colab": {
      "provenance": [],
      "mount_file_id": "1igBly400JfPBqp8t9UNtPn2c0vEhpKKz",
      "authorship_tag": "ABX9TyN9rjqhBKZ7C9fOeMTzlG5U",
      "include_colab_link": true
    },
    "kernelspec": {
      "name": "python3",
      "display_name": "Python 3"
    },
    "language_info": {
      "name": "python"
    }
  },
  "cells": [
    {
      "cell_type": "markdown",
      "metadata": {
        "id": "view-in-github",
        "colab_type": "text"
      },
      "source": [
        "<a href=\"https://colab.research.google.com/github/HANA-PON/BM25Transformer/blob/master/%E7%89%B9%E5%88%A5%E7%A0%94%E7%A9%B6%E4%BE%8B.ipynb\" target=\"_parent\"><img src=\"https://colab.research.google.com/assets/colab-badge.svg\" alt=\"Open In Colab\"/></a>"
      ]
    },
    {
      "cell_type": "code",
      "source": [
        "!apt-get install -y -qq"
      ],
      "metadata": {
        "id": "XEASVMcjSlpl"
      },
      "execution_count": 4,
      "outputs": []
    },
    {
      "cell_type": "code",
      "source": [
        "import pandas as pd\n",
        "import os\n",
        "\n",
        "# ... (rest of your code)\n",
        "\n",
        "# Create the directory if it doesn't exist\n",
        "os.makedirs('/content/drive/MyDrive/CU/★講義/2024前期/ゼミナール田中頼人/mnt/data', exist_ok=True)\n",
        "\n",
        "# Save DataFrame to Excel file\n",
        "file_path = '/content/drive/MyDrive/CU/★講義/2024前期/ゼミナール田中頼人/mnt/data/AI_Research_Keywords.xlsx'\n",
        "df_keywords.to_excel(file_path, index=False)\n",
        "\n",
        "file_path"
      ],
      "metadata": {
        "colab": {
          "base_uri": "https://localhost:8080/",
          "height": 36
        },
        "id": "cXMuNLAZSNSj",
        "outputId": "88ea8f31-2ce0-4093-8966-d84e30f3837b"
      },
      "execution_count": 5,
      "outputs": [
        {
          "output_type": "execute_result",
          "data": {
            "text/plain": [
              "'/content/drive/MyDrive/CU/★講義/2024前期/ゼミナール田中頼人/mnt/data/AI_Research_Keywords.xlsx'"
            ],
            "application/vnd.google.colaboratory.intrinsic+json": {
              "type": "string"
            }
          },
          "metadata": {},
          "execution_count": 5
        }
      ]
    },
    {
      "cell_type": "code",
      "execution_count": 6,
      "metadata": {
        "colab": {
          "base_uri": "https://localhost:8080/",
          "height": 36
        },
        "id": "drrerOicR6v3",
        "outputId": "4a8ef16e-cf15-4b60-d801-e64993b32ca0"
      },
      "outputs": [
        {
          "output_type": "execute_result",
          "data": {
            "text/plain": [
              "'/mnt/data/AI_Research_Keywords.xlsx'"
            ],
            "application/vnd.google.colaboratory.intrinsic+json": {
              "type": "string"
            }
          },
          "metadata": {},
          "execution_count": 6
        }
      ],
      "source": [
        "import pandas as pd\n",
        "\n",
        "# Create a list of keywords with descriptions and relationships\n",
        "keywords = [\n",
        "    (\"Chinese Cuisine\", \"中華料理に関する様々な地域の特色や調理方法を研究し、これをデータセットとして利用する。\", \"連携キーワード：Recipes, Image Processing\"),\n",
        "    (\"Recipes\", \"レシピは料理の材料や調理手順を指示するテキストデータで、この情報を解析して料理推薦システムを開発する。\", \"連携キーワード：Natural Language Processing, Chinese Cuisine\"),\n",
        "    (\"Image Processing\", \"画像処理技術を用いて料理画像から材料や調理状態を識別する。\", \"連携キーワード：Chinese Cuisine, Recipes\"),\n",
        "    (\"Natural Language Processing\", \"自然言語処理を使ってレシピのテキストデータやソーシャルメディアの投稿を解析する。\", \"連携キーワード：Recipes, Social Media\"),\n",
        "    (\"Social Media\", \"ソーシャルメディアからのデータを分析し、人気の料理やトレンドを特定する。\", \"連携キーワード：Natural Language Processing, Image Processing\"),\n",
        "    (\"Deep Learning\", \"深層学習を利用して複雑な画像やテキストデータからパターンを識別する。\", \"連携キーワード：Image Processing, Natural Language Processing\"),\n",
        "    (\"Data Mining\", \"大量のデータから有用な情報を抽出する技術で、トレンド分析などに利用される。\", \"連携キーワード：Social Media, Recipes\"),\n",
        "    (\"Machine Learning\", \"機械学習を用いてデータから予測モデルを構築し、新たな知見を得る。\", \"連携キーワード：Data Mining, Deep Learning\"),\n",
        "    (\"Text Mining\", \"テキストマイニングを通じて、レシピやソーシャルメディアのテキストから情報を抽出する。\", \"連携キーワード：Natural Language Processing, Social Media\"),\n",
        "    (\"Convolutional Neural Networks\", \"畳み込みニューラルネットワークは画像データを処理するのに特化したモデルである。\", \"連携キーワード：Image Processing, Deep Learning\"),\n",
        "    (\"Semantic Analysis\", \"意味解析を行い、テキストの深い意味を理解することでより正確な情報抽出が可能になる。\", \"連携キーワード：Natural Language Processing, Text Mining\"),\n",
        "    (\"Data Visualization\", \"データ視覚化を用いて、解析結果をわかりやすく表現し、インサイトを共有する。\", \"連携キーワード：Data Mining, Machine Learning\"),\n",
        "    (\"Ingredient Recognition\", \"食材認識技術を用いて、画像から具体的な食材を識別する。\", \"連携キーワード：Image Processing, Convolutional Neural Networks\"),\n",
        "    (\"Recipe Generation\", \"AIを使って新しいレシピを生成する技術。\", \"連携キーワード：Natural Language Processing, Deep Learning\"),\n",
        "    (\"Trend Analysis\", \"トレンド分析を行い、ソーシャルメディア上のデータから流行を読み取る。\", \"連携キーワード：Social Media, Data Mining\"),\n",
        "    (\"Sentiment Analysis\", \"感情分析を通じて、ソーシャルメディアの投稿からユーザーの感情を把握する。\", \"連携キーワード：Natural Language Processing, Text Mining\"),\n",
        "    (\"Data Annotation\", \"データアノテーションを行い、学習データを整備し、機械学習モデルの精度を向上させる。\", \"連携キーワード：Machine Learning, Deep Learning\"),\n",
        "    (\"Big Data\", \"ビッグデータを活用して、大規模なデータセットからパターンを抽出し、予測モデルを構築する。\", \"連携キーワード：Data Mining, Machine Learning\"),\n",
        "    (\"User Engagement\", \"ユーザーエンゲージメントを分析し、ソーシャルメディア上での活動を促進する。\", \"連携キーワード：Social Media, Sentiment Analysis\"),\n",
        "    (\"Content Curation\", \"コンテンツキュレーションを通じて、質の高い情報を選択し、ユーザーに提供する。\", \"連携キーワード：Social Media, Data Mining\"),\n",
        "    (\"Recommendation Systems\", \"推薦システムを利用して、ユーザーの好みに合わせた料理を推薦する。\", \"連携キーワード：Machine Learning, Recipe Generation\"),\n",
        "    (\"Text Classification\", \"テキスト分類を行い、レシピやソーシャルメディアの投稿をカテゴリー分けする。\", \"連携キーワード：Natural Language Processing, Text Mining\"),\n",
        "    (\"Food Pairing\", \"食材の組み合わせを科学的に分析し、新しいレシピの提案を行う。\", \"連携キーワード：Recipe Generation, Data Mining\"),\n",
        "    (\"Flavor Analysis\", \"フレーバー分析を通じて、料理の味の構成要素を解析する。\", \"連携キーワード：Food Pairing, Ingredient Recognition\"),\n",
        "    (\"Social Media Monitoring\", \"ソーシャルメディアモニタリングを行い、ブランドの評判やトレンドをリアルタイムで追跡する。\", \"連携キーワード：Social Media, Sentiment Analysis\")\n",
        "]\n",
        "\n",
        "# Convert list into DataFrame\n",
        "df_keywords = pd.DataFrame(keywords, columns=[\"Keyword\", \"Description\", \"Relationship\"])\n",
        "\n",
        "# Save DataFrame to Excel file\n",
        "file_path = '/mnt/data/AI_Research_Keywords.xlsx'\n",
        "df_keywords.to_excel(file_path, index=False)\n",
        "\n",
        "file_path\n"
      ]
    },
    {
      "cell_type": "code",
      "source": [
        "# Define additional keywords and their details\n",
        "keywords_new_project = [\n",
        "    (\"Welfare Application Processing\", \"生活保護申請のプロセスを自動化するためのシステムを開発し、申請者とのコミュニケーションを効率化する。\", \"連携キーワード：Chatbots, Natural Language Processing\"),\n",
        "    (\"Chatbots\", \"チャットボットを用いて、ユーザーの問い合わせに自動で応答し、サポート効率を向上させる。\", \"連携キーワード：Assistants, Natural Language Processing\"),\n",
        "    (\"Assistants\", \"アシスタント技術を使って、ユーザーの要求に基づいた情報提供やタスク実行を行う。\", \"連携キーワード：Chatbots, Natural Language Processing\"),\n",
        "    (\"Natural Language Processing\", \"自然言語処理を利用して、テキストの意味を解析し、ユーザーとのコミュニケーションを改善する。\", \"連携キーワード：Welfare Application Processing, Social Media\"),\n",
        "    (\"Social Media\", \"ソーシャルメディアを活用して、ユーザーの反応やトレンドを分析し、サービスの向上につなげる。\", \"連携キーワード：Natural Language Processing, Assistants\"),\n",
        "    (\"User Experience Design\", \"ユーザーエクスペリエンスデザインを重視し、使用しやすいインターフェースを提供する。\", \"連携キーワード：Assistants, Social Media\"),\n",
        "    (\"Sentiment Analysis\", \"感情分析を用いて、ユーザーの意見や感情をテキストから抽出し、サービス改善に活用する。\", \"連携キーワード：Natural Language Processing, Social Media\"),\n",
        "    (\"Machine Learning\", \"機械学習を利用して、大量のデータからパターンを学習し、予測モデルを作成する。\", \"連携キーワード：Natural Language Processing, Sentiment Analysis\"),\n",
        "    (\"Deep Learning\", \"深層学習を用いて複雑なデータや状況から高度な特徴を抽出し、精度の高い解析を実現する。\", \"連携キーワード：Machine Learning, Natural Language Processing\"),\n",
        "    (\"Data Mining\", \"データマイニング技術を用いて、非構造化データから有用な情報を抽出する。\", \"連携キーワード：Machine Learning, Social Media\"),\n",
        "    (\"Speech Recognition\", \"音声認識を用いて、ユーザーの発話内容をテキスト化し、さらなる解析を可能にする。\", \"連携キーワード：Natural Language Processing, Assistants\"),\n",
        "    (\"Text Mining\", \"テキストマイニングを通じて、大量の文書から情報を抽出し、知識発見を促進する。\", \"連携キーワード：Natural Language Processing, Data Mining\"),\n",
        "    (\"Text Generation\", \"テキスト生成技術を用いて、自然な言語での応答や報告を自動作成する。\", \"連携キーワード：Natural Language Processing, Chatbots\"),\n",
        "    (\"User Interface Design\", \"ユーザーインターフェースデザインを最適化し、直感的に操作できるシステムを開発する。\", \"連携キーワード：User Experience Design, Assistants\"),\n",
        "    (\"Data Visualization\", \"データ視覚化を用いて、解析結果をより理解しやすく表現し、意思決定を支援する。\", \"連携キーワード：Data Mining, Machine Learning\"),\n",
        "    (\"Customer Relationship Management\", \"顧客関係管理を強化し、ユーザーの満足度を高めるサービスを提供する。\", \"連携キーワード：Social Media, User Experience Design\"),\n",
        "    (\"Predictive Analytics\", \"予測分析を行い、将来のトレンドやユーザー行動を予測し、戦略を立てる。\", \"連携キーワード：Machine Learning, Data Mining\"),\n",
        "    (\"Big Data\", \"ビッグデータを活用して、大規模なデータセットから洞察を得る。\", \"連携キーワード：Data Mining, Predictive Analytics\"),\n",
        "    (\"Cloud Computing\", \"クラウドコンピューティングを利用して、大量の計算資源とデータストレージを提供する。\", \"連携キーワード：Big Data, Machine Learning\"),\n",
        "    (\"Data Security\", \"データセキュリティを確保し、ユーザーの情報を保護するための対策を講じる。\", \"連携キーワード：Cloud Computing, Big Data\"),\n",
        "    (\"API Development\", \"API開発を通じて、異なるシステム間でのデータ連携を容易にする。\", \"連携キーワード：Cloud Computing, User Interface Design\"),\n",
        "    (\"Real-time Analytics\", \"リアルタイム分析を行い、瞬時にデータから情報を得て対応を決定する。\", \"連携キーワード：Big Data, Predictive Analytics\"),\n",
        "    (\"Blockchain\", \"ブロックチェーン技術を利用して、データの透明性と信頼性を高める。\", \"連携キーワード：Data Security, Cloud Computing\"),\n",
        "    (\"Ethical AI\", \"倫理的AIの考慮により、公正で透明性のあるAIシステムを構築する。\", \"連携キーワード：Machine Learning, Data Security\"),\n",
        "    (\"AI Governance\", \"AIガバナンスを強化し、AI技術の適切な使用と管理を実現する。\", \"連携キーワード：Ethical AI, Data Security\")\n",
        "]\n",
        "\n",
        "# Create DataFrame\n",
        "df_keywords_new_project = pd.DataFrame(keywords_new_project, columns=[\"Keyword\", \"Description\", \"Relationship\"])\n",
        "\n",
        "# Save to Excel\n",
        "file_path_new_project = '/content/drive/MyDrive/CU/★講義/2024前期/ゼミナール田中頼人/mnt/data/Welfare_Application_AI_Project_Keywords.xlsx'\n",
        "df_keywords_new_project.to_excel(file_path_new_project, index=False)\n",
        "\n",
        "file_path_new_project\n"
      ],
      "metadata": {
        "colab": {
          "base_uri": "https://localhost:8080/",
          "height": 36
        },
        "id": "X177LtKZV3Oq",
        "outputId": "06c04c86-5871-43f6-e552-d5a988ffdd46"
      },
      "execution_count": 8,
      "outputs": [
        {
          "output_type": "execute_result",
          "data": {
            "text/plain": [
              "'/content/drive/MyDrive/CU/★講義/2024前期/ゼミナール田中頼人/mnt/data/Welfare_Application_AI_Project_Keywords.xlsx'"
            ],
            "application/vnd.google.colaboratory.intrinsic+json": {
              "type": "string"
            }
          },
          "metadata": {},
          "execution_count": 8
        }
      ]
    },
    {
      "cell_type": "code",
      "source": [
        "# Define additional keywords and their details for the new project\n",
        "keywords_vacant_houses_project = [\n",
        "    (\"Vacant House Measures\", \"空き家対策に関連するデータを分析し、問題解決のためのアプローチを開発する。\", \"連携キーワード：Image Processing, Chatbots\"),\n",
        "    (\"Chatbots\", \"チャットボットを用いて、ユーザーからの相談に自動で応答し、情報提供を行う。\", \"連携キーワード：Consultation Assistants, Natural Language Processing\"),\n",
        "    (\"Consultation Assistants\", \"相談アシスタントを通じて、ユーザーの質問に対し個別化されたアドバイスを提供する。\", \"連携キーワード：Chatbots, Natural Language Processing\"),\n",
        "    (\"Natural Language Processing\", \"自然言語処理を利用して、ユーザーからのテキスト情報を解析し、適切な応答を生成する。\", \"連携キーワード：Chatbots, Consultation Assistants\"),\n",
        "    (\"Image Processing\", \"画像処理技術を用いて空き家の状態を把握し、データベースを更新する。\", \"連携キーワード：Vacant House Measures, Natural Language Processing\"),\n",
        "    (\"Machine Learning\", \"機械学習を利用して、大量のデータから有用なパターンを学習し、予測モデルを構築する。\", \"連携キーワード：Image Processing, Natural Language Processing\"),\n",
        "    (\"Deep Learning\", \"深層学習を用いて、画像やテキストデータから複雑な特徴を抽出し、分析の精度を向上させる。\", \"連携キーワード：Image Processing, Machine Learning\"),\n",
        "    (\"Data Mining\", \"データマイニングを通じて、非構造化データから有意義な情報を抽出し、戦略的意思決定をサポートする。\", \"連携キーワード：Machine Learning, Deep Learning\"),\n",
        "    (\"Urban Planning\", \"都市計画の観点から空き家問題にアプローチし、持続可能な住宅政策を提案する。\", \"連携キーワード：Vacant House Measures, Data Mining\"),\n",
        "    (\"Geospatial Analysis\", \"地理空間分析を用いて、空き家の分布と影響を評価し、地域社会へのインパクトを分析する。\", \"連携キーワード：Urban Planning, Image Processing\"),\n",
        "    (\"Text Mining\", \"テキストマイニング技術を用いて、関連文書から情報を抽出し、知識ベースを構築する。\", \"連携キーワード：Natural Language Processing, Data Mining\"),\n",
        "    (\"Sentiment Analysis\", \"感情分析を通じて、ソーシャルメディアやユーザーレビューから市民の意見を把握し、政策策定に活用する。\", \"連携キーワード：Text Mining, Social Media Analysis\"),\n",
        "    (\"Predictive Analytics\", \"予測分析を用いて、未来の空き家率の動向を予測し、事前に対策を講じる。\", \"連携キーワード：Data Mining, Machine Learning\"),\n",
        "    (\"Data Visualization\", \"データ視覚化を利用して、解析結果を視覚的に表現し、より効果的なコミュニケーションを行う。\", \"連携キーワード：Data Mining, Predictive Analytics\"),\n",
        "    (\"Artificial Intelligence\", \"人工知能技術を活用して、複数のデータソースから自動的に情報を収集・分析する。\", \"連携キーワード：Machine Learning, Deep Learning\"),\n",
        "    (\"Blockchain\", \"ブロックチェーン技術を用いて、不動産取引の透明性を確保し、信頼性のある情報共有を実現する。\", \"連携キーワード：Data Security, Urban Planning\"),\n",
        "    (\"API Development\", \"API開発を通じて、異なるシステム間でのデータ連携を容易にし、情報アクセスを改善する。\", \"連携キーワード：Data Mining, Machine Learning\"),\n",
        "    (\"Real-time Analytics\", \"リアルタイム分析を行い、瞬時に情報を更新し、迅速な対応を可能にする。\", \"連携キーワード：Predictive Analytics, Data Visualization\"),\n",
        "    (\"Big Data\", \"ビッグデータ技術を用いて、大規模なデータセットから洞察を得る。\", \"連携キーワード：Data Mining, Real-time Analytics\"),\n",
        "    (\"Cloud Computing\", \"クラウドコンピューティングを利用して、データの処理と保存に必要なリソースを提供する。\", \"連携キーワード：Big Data, Data Security\"),\n",
        "    (\"Data Security\", \"データセキュリティ対策を強化し、ユーザーの情報を保護する。\", \"連携キーワード：Cloud Computing, Blockchain\"),\n",
        "    (\"Social Media Analysis\", \"ソーシャルメディア分析を通じて、市民の意見や感情をリアルタイムで把握し、対応策を検討する。\", \"連携キーワード：Sentiment Analysis, Data Mining\"),\n",
        "    (\"User Interface Design\", \"ユーザーインターフェースデザインを最適化し、利用者が直感的に操作できるシステムを開発する。\", \"連携キーワード：Chatbots, Consultation Assistants\"),\n",
        "    (\"Ethical AI\", \"倫理的AIの考慮により、公正で透明性のあるAIシステムを構築する。\", \"連携キーワード：Artificial Intelligence, Data Security\"),\n",
        "    (\"AI Governance\", \"AIガバナンスを強化し、AI技術の適切な使用と管理を実現する。\", \"連携キーワード：Ethical AI, Artificial Intelligence\"),\n",
        "    (\"Sustainable Development\", \"持続可能な開発を目指し、環境に配慮した空き家対策を講じる。\", \"連携キーワード：Urban Planning, Geospatial Analysis\")\n",
        "]\n",
        "\n",
        "# Create DataFrame for the vacant houses project\n",
        "df_keywords_vacant_houses_project = pd.DataFrame(keywords_vacant_houses_project, columns=[\"Keyword\", \"Description\", \"Relationship\"])\n",
        "\n",
        "# Save to Excel\n",
        "file_path_vacant_houses_project = '/content/drive/MyDrive/CU/★講義/2024前期/ゼミナール田中頼人/mnt/data/Vacant_House_Measures_AI_Project_Keywords.xlsx'\n",
        "df_keywords_vacant_houses_project.to_excel(file_path_vacant_houses_project, index=False)\n",
        "\n",
        "file_path_vacant_houses_project\n"
      ],
      "metadata": {
        "colab": {
          "base_uri": "https://localhost:8080/",
          "height": 36
        },
        "id": "aw5GvBafXhaC",
        "outputId": "1c799968-08ba-4854-818c-685dd3d07bf2"
      },
      "execution_count": 9,
      "outputs": [
        {
          "output_type": "execute_result",
          "data": {
            "text/plain": [
              "'/content/drive/MyDrive/CU/★講義/2024前期/ゼミナール田中頼人/mnt/data/Vacant_House_Measures_AI_Project_Keywords.xlsx'"
            ],
            "application/vnd.google.colaboratory.intrinsic+json": {
              "type": "string"
            }
          },
          "metadata": {},
          "execution_count": 9
        }
      ]
    },
    {
      "cell_type": "code",
      "source": [
        "# Define additional keywords and their details for the regional city environmental project\n",
        "keywords_environmental_project = [\n",
        "    (\"Minimizing Environmental Impact\", \"地方都市における環境負荷を最小限に抑えるための持続可能な開発戦略を策定する。\", \"連携キーワード：DX, Sustainable Development\"),\n",
        "    (\"DX\", \"デジタルトランスフォーメーションを活用して、都市のサービスとインフラを最適化し、効率を高める。\", \"連携キーワード：Assistants, Natural Language Processing\"),\n",
        "    (\"Assistants\", \"アシスタント技術を用いて、市民の日常生活や市政へのアクセスを支援し、サービスを自動化する。\", \"連携キーワード：DX, Natural Language Processing\"),\n",
        "    (\"Natural Language Processing\", \"自然言語処理を使って、市民からのフィードバックを解析し、市政サービスの改善に役立てる。\", \"連携キーワード：Assistants, DX\"),\n",
        "    (\"H22 Initiative\", \"スウェーデンのヘルシンボリ市における持続可能な都市開発プロジェクト「H22」を詳細に分析する。\", \"連携キーワード：Minimizing Environmental Impact, Smart City\"),\n",
        "    (\"Smart City\", \"スマートシティ技術を導入し、都市の運営を効率化し、環境に優しい都市機能を提供する。\", \"連携キーワード：DX, H22 Initiative\"),\n",
        "    (\"Sustainable Development\", \"持続可能な開発を目指し、環境、経済、社会の三つの柱を考慮した政策を推進する。\", \"連携キーワード：Minimizing Environmental Impact, Smart City\"),\n",
        "    (\"Renewable Energy\", \"再生可能エネルギー源を活用して、地方都市のエネルギー供給を持続可能なものに変える。\", \"連携キーワード：Sustainable Development, Smart City\"),\n",
        "    (\"Data Analytics\", \"データ分析を通じて、都市の運営データからインサイトを抽出し、意思決定を支援する。\", \"連携キーワード：Smart City, DX\"),\n",
        "    (\"IoT\", \"IoT技術を利用して、都市のインフラやサービスの遠隔監視と制御を行う。\", \"連携キーワード：Smart City, Data Analytics\"),\n",
        "    (\"Urban Planning\", \"都市計画を通じて、効率的かつ環境に優しい都市設計を行う。\", \"連携キーワード：Minimizing Environmental Impact, Smart City\"),\n",
        "    (\"Geospatial Analysis\", \"地理空間分析を用いて、都市の土地利用や環境影響を評価する。\", \"連携キーワード：Urban Planning, IoT\"),\n",
        "    (\"Public Engagement\", \"公共参加を促進し、市民が都市開発プロセスに積極的に関与することを奨励する。\", \"連携キーワード：Smart City, Urban Planning\"),\n",
        "    (\"Green Infrastructure\", \"緑のインフラを整備し、都市の生態系サービスを向上させ、生活の質を高める。\", \"連携キーワード：Sustainable Development, Urban Planning\"),\n",
        "    (\"Artificial Intelligence\", \"人工知能を活用して、複雑なデータセットからパターンを識別し、効率的な都市管理を行う。\", \"連携キーワード：Data Analytics, IoT\"),\n",
        "    (\"Predictive Analytics\", \"予測分析を用いて、都市の将来の課題を予測し、事前に対策を講じる。\", \"連携キーワード：Data Analytics, Artificial Intelligence\"),\n",
        "    (\"Text Mining\", \"テキストマイニングを用いて、市政に関する文書や市民のフィードバックから情報を抽出する。\", \"連携キーワード：Natural Language Processing, Public Engagement\"),\n",
        "    (\"Blockchain\", \"ブロックチェーンを利用して、都市データの透明性とセキュリティを向上させる。\", \"連携キーワード：Data Security, Smart City\"),\n",
        "    (\"Data Security\", \"データセキュリティを強化し、市民の個人情報保護を確保する。\", \"連携キーワード：Blockchain, Data Analytics\"),\n",
        "    (\"Machine Learning\", \"機械学習を用いて、都市の運営に関連するデータから有用な洞察を得る。\", \"連携キーワード：Artificial Intelligence, Data Analytics\"),\n",
        "    (\"API Development\", \"API開発を通じて、異なるシステム間のデータ連携を容易にし、都市サービスのアクセシビリティを向上させる。\", \"連携キーワード：Smart City, IoT\"),\n",
        "    (\"Social Media Analysis\", \"ソーシャルメディア分析を通じて、市民の意見や感情を把握し、市政サービスの改善に活用する。\", \"連携キーワード：Public Engagement, Natural Language Processing\"),\n",
        "    (\"Urban Mobility\", \"都市のモビリティを改善し、交通の効率化と環境負荷の軽減を図る。\", \"連携キーワード：Smart City, Urban Planning\"),\n",
        "    (\"Energy Efficiency\", \"エネルギー効率を高める技術と戦略を導入し、都市の持続可能な発展を支援する。\", \"連携キーワード：Renewable Energy, Urban Mobility\"),\n",
        "    (\"Waste Management\", \"廃棄物管理を最適化し、リサイクルとリユースを促進して都市の持続可能性を向上させる。\", \"連携キーワード：Sustainable Development, Green Infrastructure\")\n",
        "]\n",
        "\n",
        "# Create DataFrame for the environmental impact reduction project\n",
        "df_keywords_environmental_project = pd.DataFrame(keywords_environmental_project, columns=[\"Keyword\", \"Description\", \"Relationship\"])\n",
        "\n",
        "# Save to Excel\n",
        "file_path_environmental_project = '/content/drive/MyDrive/CU/★講義/2024前期/ゼミナール田中頼人/mnt/data/Environmental_Impact_Reduction_Project_Keywords.xlsx'\n",
        "df_keywords_environmental_project.to_excel(file_path_environmental_project, index=False)\n",
        "\n",
        "file_path_environmental_project\n"
      ],
      "metadata": {
        "colab": {
          "base_uri": "https://localhost:8080/",
          "height": 36
        },
        "id": "wyRtsBNxYHzT",
        "outputId": "2f846898-4711-4e16-89a2-5af6a8fdb8dc"
      },
      "execution_count": 10,
      "outputs": [
        {
          "output_type": "execute_result",
          "data": {
            "text/plain": [
              "'/content/drive/MyDrive/CU/★講義/2024前期/ゼミナール田中頼人/mnt/data/Environmental_Impact_Reduction_Project_Keywords.xlsx'"
            ],
            "application/vnd.google.colaboratory.intrinsic+json": {
              "type": "string"
            }
          },
          "metadata": {},
          "execution_count": 10
        }
      ]
    },
    {
      "cell_type": "code",
      "source": [
        "!pip install mecab-python3\n",
        "\n",
        "# 形態素分析ライブラリMeCabと辞書（mecab-ipadic-NEologd）のインストール\n",
        "!apt-get -q -y install sudo file mecab libmecab-dev mecab-ipadic-utf8 git curl python-mecab > /dev/null\n",
        "\n",
        "!git clone --depth 1 https://github.com/neologd/mecab-ipadic-neologd.git > /dev/null\n",
        "\n",
        "!echo yes | mecab-opadic-neod/bin/install-mecab-ipadic-neologd -n > /dev/null2>&1\n",
        "\n",
        "!pip install mecab-python3 > /dev/null\n",
        "\n",
        "# シンボリックリンクによるエラー回避\n",
        "\n",
        "!ln -s /etc/mecabrc /usr/local/etc/mecabrc"
      ],
      "metadata": {
        "colab": {
          "base_uri": "https://localhost:8080/"
        },
        "id": "jckoWod-fYzh",
        "outputId": "d2ee8b7d-8b5e-452a-bc6f-8907fb7a77a4"
      },
      "execution_count": 11,
      "outputs": [
        {
          "output_type": "stream",
          "name": "stdout",
          "text": [
            "Collecting mecab-python3\n",
            "  Downloading mecab_python3-1.0.9-cp310-cp310-manylinux_2_17_x86_64.manylinux2014_x86_64.whl (581 kB)\n",
            "\u001b[?25l     \u001b[90m━━━━━━━━━━━━━━━━━━━━━━━━━━━━━━━━━━━━━━━━\u001b[0m \u001b[32m0.0/581.7 kB\u001b[0m \u001b[31m?\u001b[0m eta \u001b[36m-:--:--\u001b[0m\r\u001b[2K     \u001b[91m━━━━━━━━━\u001b[0m\u001b[91m╸\u001b[0m\u001b[90m━━━━━━━━━━━━━━━━━━━━━━━━━━━━━━\u001b[0m \u001b[32m143.4/581.7 kB\u001b[0m \u001b[31m4.2 MB/s\u001b[0m eta \u001b[36m0:00:01\u001b[0m\r\u001b[2K     \u001b[90m━━━━━━━━━━━━━━━━━━━━━━━━━━━━━━━━━━━━━━━━\u001b[0m \u001b[32m581.7/581.7 kB\u001b[0m \u001b[31m8.4 MB/s\u001b[0m eta \u001b[36m0:00:00\u001b[0m\n",
            "\u001b[?25hInstalling collected packages: mecab-python3\n",
            "Successfully installed mecab-python3-1.0.9\n",
            "E: Unable to locate package python-mecab\n",
            "Cloning into 'mecab-ipadic-neologd'...\n",
            "remote: Enumerating objects: 75, done.\u001b[K\n",
            "remote: Counting objects: 100% (75/75), done.\u001b[K\n",
            "remote: Compressing objects: 100% (74/74), done.\u001b[K\n",
            "remote: Total 75 (delta 5), reused 54 (delta 0), pack-reused 0\u001b[K\n",
            "Receiving objects: 100% (75/75), 58.09 MiB | 38.15 MiB/s, done.\n",
            "Resolving deltas: 100% (5/5), done.\n",
            "/bin/bash: line 1: mecab-opadic-neod/bin/install-mecab-ipadic-neologd: No such file or directory\n"
          ]
        }
      ]
    },
    {
      "cell_type": "code",
      "source": [
        "!echo `mecab-config --dicdir`\"/mecab-ipadic-neologd\"\n",
        "#/usr/lib/x86_64-linux-gnu/mecab/dic/mecab-ipadic-neologd"
      ],
      "metadata": {
        "colab": {
          "base_uri": "https://localhost:8080/"
        },
        "id": "dOO7nZx2gxBX",
        "outputId": "86f589c2-dd91-4ec7-dc7c-515a6729b877"
      },
      "execution_count": 13,
      "outputs": [
        {
          "output_type": "stream",
          "name": "stdout",
          "text": [
            "/bin/bash: line 1: mecab-config: command not found\n",
            "/mecab-ipadic-neologd\n"
          ]
        }
      ]
    },
    {
      "cell_type": "code",
      "source": [
        "# MeCabのインストール\n",
        "!sudo apt-get install mecab libmecab-dev mecab-ipadic-utf8\n",
        "\n",
        "# 設定ファイルの場所を確認\n",
        "!echo `mecab-config --sysconfdir`/mecabrc"
      ],
      "metadata": {
        "colab": {
          "base_uri": "https://localhost:8080/"
        },
        "id": "7x7kc02fg3wL",
        "outputId": "82625c97-af12-4caf-e09d-807753701a85"
      },
      "execution_count": 14,
      "outputs": [
        {
          "output_type": "stream",
          "name": "stdout",
          "text": [
            "Reading package lists... Done\n",
            "Building dependency tree... Done\n",
            "Reading state information... Done\n",
            "The following additional packages will be installed:\n",
            "  libmecab2 mecab-ipadic mecab-utils\n",
            "The following NEW packages will be installed:\n",
            "  libmecab-dev libmecab2 mecab mecab-ipadic mecab-ipadic-utf8 mecab-utils\n",
            "0 upgraded, 6 newly installed, 0 to remove and 45 not upgraded.\n",
            "Need to get 7,367 kB of archives.\n",
            "After this operation, 59.3 MB of additional disk space will be used.\n",
            "Get:1 http://archive.ubuntu.com/ubuntu jammy/main amd64 libmecab2 amd64 0.996-14build9 [199 kB]\n",
            "Get:2 http://archive.ubuntu.com/ubuntu jammy/main amd64 libmecab-dev amd64 0.996-14build9 [306 kB]\n",
            "Get:3 http://archive.ubuntu.com/ubuntu jammy/main amd64 mecab-utils amd64 0.996-14build9 [4,850 B]\n",
            "Get:4 http://archive.ubuntu.com/ubuntu jammy/main amd64 mecab-ipadic all 2.7.0-20070801+main-3 [6,718 kB]\n",
            "Get:5 http://archive.ubuntu.com/ubuntu jammy/universe amd64 mecab amd64 0.996-14build9 [136 kB]\n",
            "Get:6 http://archive.ubuntu.com/ubuntu jammy/main amd64 mecab-ipadic-utf8 all 2.7.0-20070801+main-3 [4,384 B]\n",
            "Fetched 7,367 kB in 1s (5,967 kB/s)\n",
            "debconf: unable to initialize frontend: Dialog\n",
            "debconf: (No usable dialog-like program is installed, so the dialog based frontend cannot be used. at /usr/share/perl5/Debconf/FrontEnd/Dialog.pm line 78, <> line 6.)\n",
            "debconf: falling back to frontend: Readline\n",
            "debconf: unable to initialize frontend: Readline\n",
            "debconf: (This frontend requires a controlling tty.)\n",
            "debconf: falling back to frontend: Teletype\n",
            "dpkg-preconfigure: unable to re-open stdin: \n",
            "Selecting previously unselected package libmecab2:amd64.\n",
            "(Reading database ... 121925 files and directories currently installed.)\n",
            "Preparing to unpack .../0-libmecab2_0.996-14build9_amd64.deb ...\n",
            "Unpacking libmecab2:amd64 (0.996-14build9) ...\n",
            "Selecting previously unselected package libmecab-dev.\n",
            "Preparing to unpack .../1-libmecab-dev_0.996-14build9_amd64.deb ...\n",
            "Unpacking libmecab-dev (0.996-14build9) ...\n",
            "Selecting previously unselected package mecab-utils.\n",
            "Preparing to unpack .../2-mecab-utils_0.996-14build9_amd64.deb ...\n",
            "Unpacking mecab-utils (0.996-14build9) ...\n",
            "Selecting previously unselected package mecab-ipadic.\n",
            "Preparing to unpack .../3-mecab-ipadic_2.7.0-20070801+main-3_all.deb ...\n",
            "Unpacking mecab-ipadic (2.7.0-20070801+main-3) ...\n",
            "Selecting previously unselected package mecab.\n",
            "Preparing to unpack .../4-mecab_0.996-14build9_amd64.deb ...\n",
            "Unpacking mecab (0.996-14build9) ...\n",
            "Selecting previously unselected package mecab-ipadic-utf8.\n",
            "Preparing to unpack .../5-mecab-ipadic-utf8_2.7.0-20070801+main-3_all.deb ...\n",
            "Unpacking mecab-ipadic-utf8 (2.7.0-20070801+main-3) ...\n",
            "Setting up libmecab2:amd64 (0.996-14build9) ...\n",
            "Setting up libmecab-dev (0.996-14build9) ...\n",
            "Setting up mecab-utils (0.996-14build9) ...\n",
            "Setting up mecab-ipadic (2.7.0-20070801+main-3) ...\n",
            "Compiling IPA dictionary for Mecab.  This takes long time...\n",
            "reading /usr/share/mecab/dic/ipadic/unk.def ... 40\n",
            "emitting double-array: 100% |###########################################| \n",
            "/usr/share/mecab/dic/ipadic/model.def is not found. skipped.\n",
            "reading /usr/share/mecab/dic/ipadic/Adverb.csv ... 3032\n",
            "reading /usr/share/mecab/dic/ipadic/Suffix.csv ... 1393\n",
            "reading /usr/share/mecab/dic/ipadic/Noun.org.csv ... 16668\n",
            "reading /usr/share/mecab/dic/ipadic/Noun.adjv.csv ... 3328\n",
            "reading /usr/share/mecab/dic/ipadic/Conjunction.csv ... 171\n",
            "reading /usr/share/mecab/dic/ipadic/Verb.csv ... 130750\n",
            "reading /usr/share/mecab/dic/ipadic/Prefix.csv ... 221\n",
            "reading /usr/share/mecab/dic/ipadic/Postp-col.csv ... 91\n",
            "reading /usr/share/mecab/dic/ipadic/Adj.csv ... 27210\n",
            "reading /usr/share/mecab/dic/ipadic/Noun.name.csv ... 34202\n",
            "reading /usr/share/mecab/dic/ipadic/Auxil.csv ... 199\n",
            "reading /usr/share/mecab/dic/ipadic/Adnominal.csv ... 135\n",
            "reading /usr/share/mecab/dic/ipadic/Postp.csv ... 146\n",
            "reading /usr/share/mecab/dic/ipadic/Noun.nai.csv ... 42\n",
            "reading /usr/share/mecab/dic/ipadic/Noun.others.csv ... 151\n",
            "reading /usr/share/mecab/dic/ipadic/Noun.proper.csv ... 27328\n",
            "reading /usr/share/mecab/dic/ipadic/Noun.number.csv ... 42\n",
            "reading /usr/share/mecab/dic/ipadic/Noun.verbal.csv ... 12146\n",
            "reading /usr/share/mecab/dic/ipadic/Symbol.csv ... 208\n",
            "reading /usr/share/mecab/dic/ipadic/Others.csv ... 2\n",
            "reading /usr/share/mecab/dic/ipadic/Filler.csv ... 19\n",
            "reading /usr/share/mecab/dic/ipadic/Noun.place.csv ... 72999\n",
            "reading /usr/share/mecab/dic/ipadic/Noun.adverbal.csv ... 795\n",
            "reading /usr/share/mecab/dic/ipadic/Noun.demonst.csv ... 120\n",
            "reading /usr/share/mecab/dic/ipadic/Interjection.csv ... 252\n",
            "reading /usr/share/mecab/dic/ipadic/Noun.csv ... 60477\n",
            "emitting double-array: 100% |###########################################| \n",
            "reading /usr/share/mecab/dic/ipadic/matrix.def ... 1316x1316\n",
            "emitting matrix      : 100% |###########################################| \n",
            "\n",
            "done!\n",
            "update-alternatives: using /var/lib/mecab/dic/ipadic to provide /var/lib/mecab/dic/debian (mecab-dictionary) in auto mode\n",
            "Setting up mecab (0.996-14build9) ...\n",
            "debconf: unable to initialize frontend: Dialog\n",
            "debconf: (No usable dialog-like program is installed, so the dialog based frontend cannot be used. at /usr/share/perl5/Debconf/FrontEnd/Dialog.pm line 78.)\n",
            "debconf: falling back to frontend: Readline\n",
            "Compiling IPA dictionary for Mecab.  This takes long time...\n",
            "reading /usr/share/mecab/dic/ipadic/unk.def ... 40\n",
            "emitting double-array: 100% |###########################################| \n",
            "/usr/share/mecab/dic/ipadic/model.def is not found. skipped.\n",
            "reading /usr/share/mecab/dic/ipadic/Adverb.csv ... 3032\n",
            "reading /usr/share/mecab/dic/ipadic/Suffix.csv ... 1393\n",
            "reading /usr/share/mecab/dic/ipadic/Noun.org.csv ... 16668\n",
            "reading /usr/share/mecab/dic/ipadic/Noun.adjv.csv ... 3328\n",
            "reading /usr/share/mecab/dic/ipadic/Conjunction.csv ... 171\n",
            "reading /usr/share/mecab/dic/ipadic/Verb.csv ... 130750\n",
            "reading /usr/share/mecab/dic/ipadic/Prefix.csv ... 221\n",
            "reading /usr/share/mecab/dic/ipadic/Postp-col.csv ... 91\n",
            "reading /usr/share/mecab/dic/ipadic/Adj.csv ... 27210\n",
            "reading /usr/share/mecab/dic/ipadic/Noun.name.csv ... 34202\n",
            "reading /usr/share/mecab/dic/ipadic/Auxil.csv ... 199\n",
            "reading /usr/share/mecab/dic/ipadic/Adnominal.csv ... 135\n",
            "reading /usr/share/mecab/dic/ipadic/Postp.csv ... 146\n",
            "reading /usr/share/mecab/dic/ipadic/Noun.nai.csv ... 42\n",
            "reading /usr/share/mecab/dic/ipadic/Noun.others.csv ... 151\n",
            "reading /usr/share/mecab/dic/ipadic/Noun.proper.csv ... 27328\n",
            "reading /usr/share/mecab/dic/ipadic/Noun.number.csv ... 42\n",
            "reading /usr/share/mecab/dic/ipadic/Noun.verbal.csv ... 12146\n",
            "reading /usr/share/mecab/dic/ipadic/Symbol.csv ... 208\n",
            "reading /usr/share/mecab/dic/ipadic/Others.csv ... 2\n",
            "reading /usr/share/mecab/dic/ipadic/Filler.csv ... 19\n",
            "reading /usr/share/mecab/dic/ipadic/Noun.place.csv ... 72999\n",
            "reading /usr/share/mecab/dic/ipadic/Noun.adverbal.csv ... 795\n",
            "reading /usr/share/mecab/dic/ipadic/Noun.demonst.csv ... 120\n",
            "reading /usr/share/mecab/dic/ipadic/Interjection.csv ... 252\n",
            "reading /usr/share/mecab/dic/ipadic/Noun.csv ... 60477\n",
            "emitting double-array: 100% |###########################################| \n",
            "reading /usr/share/mecab/dic/ipadic/matrix.def ... 1316x1316\n",
            "emitting matrix      : 100% |###########################################| \n",
            "\n",
            "done!\n",
            "Setting up mecab-ipadic-utf8 (2.7.0-20070801+main-3) ...\n",
            "Compiling IPA dictionary for Mecab.  This takes long time...\n",
            "reading /usr/share/mecab/dic/ipadic/unk.def ... 40\n",
            "emitting double-array: 100% |###########################################| \n",
            "/usr/share/mecab/dic/ipadic/model.def is not found. skipped.\n",
            "reading /usr/share/mecab/dic/ipadic/Adverb.csv ... 3032\n",
            "reading /usr/share/mecab/dic/ipadic/Suffix.csv ... 1393\n",
            "reading /usr/share/mecab/dic/ipadic/Noun.org.csv ... 16668\n",
            "reading /usr/share/mecab/dic/ipadic/Noun.adjv.csv ... 3328\n",
            "reading /usr/share/mecab/dic/ipadic/Conjunction.csv ... 171\n",
            "reading /usr/share/mecab/dic/ipadic/Verb.csv ... 130750\n",
            "reading /usr/share/mecab/dic/ipadic/Prefix.csv ... 221\n",
            "reading /usr/share/mecab/dic/ipadic/Postp-col.csv ... 91\n",
            "reading /usr/share/mecab/dic/ipadic/Adj.csv ... 27210\n",
            "reading /usr/share/mecab/dic/ipadic/Noun.name.csv ... 34202\n",
            "reading /usr/share/mecab/dic/ipadic/Auxil.csv ... 199\n",
            "reading /usr/share/mecab/dic/ipadic/Adnominal.csv ... 135\n",
            "reading /usr/share/mecab/dic/ipadic/Postp.csv ... 146\n",
            "reading /usr/share/mecab/dic/ipadic/Noun.nai.csv ... 42\n",
            "reading /usr/share/mecab/dic/ipadic/Noun.others.csv ... 151\n",
            "reading /usr/share/mecab/dic/ipadic/Noun.proper.csv ... 27328\n",
            "reading /usr/share/mecab/dic/ipadic/Noun.number.csv ... 42\n",
            "reading /usr/share/mecab/dic/ipadic/Noun.verbal.csv ... 12146\n",
            "reading /usr/share/mecab/dic/ipadic/Symbol.csv ... 208\n",
            "reading /usr/share/mecab/dic/ipadic/Others.csv ... 2\n",
            "reading /usr/share/mecab/dic/ipadic/Filler.csv ... 19\n",
            "reading /usr/share/mecab/dic/ipadic/Noun.place.csv ... 72999\n",
            "reading /usr/share/mecab/dic/ipadic/Noun.adverbal.csv ... 795\n",
            "reading /usr/share/mecab/dic/ipadic/Noun.demonst.csv ... 120\n",
            "reading /usr/share/mecab/dic/ipadic/Interjection.csv ... 252\n",
            "reading /usr/share/mecab/dic/ipadic/Noun.csv ... 60477\n",
            "emitting double-array: 100% |###########################################| \n",
            "reading /usr/share/mecab/dic/ipadic/matrix.def ... 1316x1316\n",
            "emitting matrix      : 100% |###########################################| \n",
            "\n",
            "done!\n",
            "update-alternatives: using /var/lib/mecab/dic/ipadic-utf8 to provide /var/lib/mecab/dic/debian (mecab-dictionary) in auto mode\n",
            "Processing triggers for man-db (2.10.2-1) ...\n",
            "Processing triggers for libc-bin (2.35-0ubuntu3.4) ...\n",
            "/sbin/ldconfig.real: /usr/local/lib/libtbbmalloc.so.2 is not a symbolic link\n",
            "\n",
            "/sbin/ldconfig.real: /usr/local/lib/libtbbmalloc_proxy.so.2 is not a symbolic link\n",
            "\n",
            "/sbin/ldconfig.real: /usr/local/lib/libtbb.so.12 is not a symbolic link\n",
            "\n",
            "/sbin/ldconfig.real: /usr/local/lib/libtbbbind.so.3 is not a symbolic link\n",
            "\n",
            "/sbin/ldconfig.real: /usr/local/lib/libtbbbind_2_0.so.3 is not a symbolic link\n",
            "\n",
            "/sbin/ldconfig.real: /usr/local/lib/libtbbbind_2_5.so.3 is not a symbolic link\n",
            "\n",
            "/etc/mecabrc\n"
          ]
        }
      ]
    },
    {
      "cell_type": "code",
      "source": [
        "!apt-get -q -y install mecab libmecab-dev mecab-ipadic-utf8 > /dev/null\n",
        "!pip install mecab-python3 > /dev/null"
      ],
      "metadata": {
        "id": "wDpX-DUJhF3P"
      },
      "execution_count": 30,
      "outputs": []
    },
    {
      "cell_type": "code",
      "source": [
        "!ln -s /etc/mecabrc /usr/local/etc/ # 設定ファイルのシンボリックリンク作る"
      ],
      "metadata": {
        "colab": {
          "base_uri": "https://localhost:8080/"
        },
        "id": "CbIbEd6lhyJZ",
        "outputId": "455d48ec-982f-4d5e-a8ff-ea2a913aed12"
      },
      "execution_count": 29,
      "outputs": [
        {
          "output_type": "stream",
          "name": "stdout",
          "text": [
            "ln: failed to create symbolic link '/usr/local/etc/mecabrc': File exists\n"
          ]
        }
      ]
    },
    {
      "cell_type": "code",
      "source": [
        "import MeCab\n",
        "\n",
        "tagger = MeCab.Tagger()\n",
        "txt = \"私は深夜1時にあの人と恋ダンスを踊った。\"\n",
        "print(tagger.parse(txt)) # Use tagger instead of m"
      ],
      "metadata": {
        "colab": {
          "base_uri": "https://localhost:8080/"
        },
        "id": "NASRUpxDgQ1u",
        "outputId": "6127ba76-622f-4b96-97d8-ed4c1afc3591"
      },
      "execution_count": 22,
      "outputs": [
        {
          "output_type": "stream",
          "name": "stdout",
          "text": [
            "私\t名詞,代名詞,一般,*,*,*,私,ワタシ,ワタシ\n",
            "は\t助詞,係助詞,*,*,*,*,は,ハ,ワ\n",
            "深夜\t名詞,副詞可能,*,*,*,*,深夜,シンヤ,シンヤ\n",
            "1\t名詞,数,*,*,*,*,*\n",
            "時\t名詞,接尾,助数詞,*,*,*,時,ジ,ジ\n",
            "に\t助詞,格助詞,一般,*,*,*,に,ニ,ニ\n",
            "あの\t連体詞,*,*,*,*,*,あの,アノ,アノ\n",
            "人\t名詞,一般,*,*,*,*,人,ヒト,ヒト\n",
            "と\t助詞,並立助詞,*,*,*,*,と,ト,ト\n",
            "恋\t名詞,一般,*,*,*,*,恋,コイ,コイ\n",
            "ダンス\t名詞,サ変接続,*,*,*,*,ダンス,ダンス,ダンス\n",
            "を\t助詞,格助詞,一般,*,*,*,を,ヲ,ヲ\n",
            "踊っ\t動詞,自立,*,*,五段・ラ行,連用タ接続,踊る,オドッ,オドッ\n",
            "た\t助動詞,*,*,*,特殊・タ,基本形,た,タ,タ\n",
            "。\t記号,句点,*,*,*,*,。,。,。\n",
            "EOS\n",
            "\n"
          ]
        }
      ]
    }
  ]
}